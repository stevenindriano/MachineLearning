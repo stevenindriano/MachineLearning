{
  "cells": [
    {
      "cell_type": "markdown",
      "id": "aea691db",
      "metadata": {
        "id": "aea691db"
      },
      "source": [
        "## <div align=\"center\"> TUGAS LAB IF540 MACHINE LEARNING </div>\n",
        "### <div align=\"center\"> WEEK [14] : [EVALUATING TECHNIQUES] </div>\n",
        "\n",
        "#### <div align=\"center\"> Semester Ganjil 2023/2024 </div>"
      ]
    },
    {
      "cell_type": "code",
      "execution_count": null,
      "id": "ad81e0ee",
      "metadata": {
        "colab": {
          "base_uri": "https://localhost:8080/"
        },
        "id": "ad81e0ee",
        "outputId": "331aff84-0272-4db2-f3cb-fc3d8f62c61a"
      },
      "outputs": [
        {
          "output_type": "stream",
          "name": "stdout",
          "text": [
            "Name: \t\tSteven Indriano\n",
            "NIM: \t\t57217\n",
            "Start: \t\t2023-12-06 04:03:45.099837\n",
            "Device ID: \t734e3674-93ec-11ee-8773-0242ac1c000c\n"
          ]
        }
      ],
      "source": [
        "import datetime\n",
        "import uuid\n",
        "\n",
        "# Fill in your name and NIM\n",
        "myName = \"Steven Indriano\"\n",
        "myNIM = \"57217\"\n",
        "\n",
        "myDate = datetime.datetime.now()\n",
        "myDevice = str(uuid.uuid1())\n",
        "\n",
        "# Header\n",
        "print(\"Name: \\t\\t{}\".format(myName))\n",
        "print(\"NIM: \\t\\t{}\".format(myNIM))\n",
        "print(\"Start: \\t\\t{}\".format(myDate))\n",
        "print(\"Device ID: \\t{}\".format(myDevice))"
      ]
    },
    {
      "cell_type": "markdown",
      "id": "ce3f5e6e",
      "metadata": {
        "id": "ce3f5e6e"
      },
      "source": [
        "\n",
        "---\n",
        "\n",
        "### Dataset yang dipakai:\n",
        "\n",
        "1. [Nama dataset1] – sumber : [cantumkan link dataset]\n",
        "2. [Nama dataset2] – sumber : [cantumkan link dataset]\n",
        "\n",
        "### Hasil kerja"
      ]
    },
    {
      "cell_type": "code",
      "execution_count": null,
      "id": "d8c4470e",
      "metadata": {
        "id": "d8c4470e"
      },
      "outputs": [],
      "source": [
        "# Your codes are here (replace the following codes)\n",
        "import time\n",
        "time.sleep(10)"
      ]
    },
    {
      "cell_type": "code",
      "execution_count": null,
      "id": "d90dedea",
      "metadata": {
        "id": "d90dedea"
      },
      "outputs": [],
      "source": [
        "from sklearn import datasets, metrics\n",
        "import matplotlib.pyplot as plt\n",
        "\n",
        "%matplotlib inline"
      ]
    },
    {
      "cell_type": "code",
      "execution_count": null,
      "id": "898aa2a4",
      "metadata": {
        "id": "898aa2a4"
      },
      "outputs": [],
      "source": [
        "digits = datasets.load_digits()"
      ]
    },
    {
      "cell_type": "code",
      "execution_count": null,
      "id": "4638121e",
      "metadata": {
        "colab": {
          "base_uri": "https://localhost:8080/",
          "height": 308
        },
        "id": "4638121e",
        "outputId": "cf94f7d4-4374-433c-ed2b-db0317d1d44d"
      },
      "outputs": [
        {
          "output_type": "execute_result",
          "data": {
            "text/plain": [
              "<matplotlib.image.AxesImage at 0x7a6fe72f7910>"
            ]
          },
          "metadata": {},
          "execution_count": 5
        },
        {
          "output_type": "display_data",
          "data": {
            "text/plain": [
              "<Figure size 300x300 with 1 Axes>"
            ],
            "image/png": "[encoded data removed]"
          },
          "metadata": {}
        }
      ],
      "source": [
        "plt.figure(figsize=(3, 3))\n",
        "plt.imshow(digits.images[10], cmap=plt.cm.gray_r)"
      ]
    },
    {
      "cell_type": "code",
      "execution_count": null,
      "id": "0bb40a40",
      "metadata": {
        "colab": {
          "base_uri": "https://localhost:8080/"
        },
        "id": "0bb40a40",
        "outputId": "10b6b28a-1821-4ff6-b3ba-66ff0491a5a9"
      },
      "outputs": [
        {
          "output_type": "execute_result",
          "data": {
            "text/plain": [
              "array([[ 0.,  0.,  1.,  9., 15., 11.,  0.,  0.],\n",
              "       [ 0.,  0., 11., 16.,  8., 14.,  6.,  0.],\n",
              "       [ 0.,  2., 16., 10.,  0.,  9.,  9.,  0.],\n",
              "       [ 0.,  1., 16.,  4.,  0.,  8.,  8.,  0.],\n",
              "       [ 0.,  4., 16.,  4.,  0.,  8.,  8.,  0.],\n",
              "       [ 0.,  1., 16.,  5.,  1., 11.,  3.,  0.],\n",
              "       [ 0.,  0., 12., 12., 10., 10.,  0.,  0.],\n",
              "       [ 0.,  0.,  1., 10., 13.,  3.,  0.,  0.]])"
            ]
          },
          "metadata": {},
          "execution_count": 6
        }
      ],
      "source": [
        "digits.images[10]"
      ]
    },
    {
      "cell_type": "code",
      "execution_count": null,
      "id": "7533c4eb",
      "metadata": {
        "colab": {
          "base_uri": "https://localhost:8080/"
        },
        "id": "7533c4eb",
        "outputId": "876cefa6-c20f-4917-ede0-cf6d71d682ff"
      },
      "outputs": [
        {
          "output_type": "execute_result",
          "data": {
            "text/plain": [
              "array([ 0.,  0.,  1.,  9., 15., 11.,  0.,  0.,  0.,  0., 11., 16.,  8.,\n",
              "       14.,  6.,  0.,  0.,  2., 16., 10.,  0.,  9.,  9.,  0.,  0.,  1.,\n",
              "       16.,  4.,  0.,  8.,  8.,  0.,  0.,  4., 16.,  4.,  0.,  8.,  8.,\n",
              "        0.,  0.,  1., 16.,  5.,  1., 11.,  3.,  0.,  0.,  0., 12., 12.,\n",
              "       10., 10.,  0.,  0.,  0.,  0.,  1., 10., 13.,  3.,  0.,  0.])"
            ]
          },
          "metadata": {},
          "execution_count": 7
        }
      ],
      "source": [
        "digits.data[10]"
      ]
    },
    {
      "cell_type": "code",
      "execution_count": null,
      "id": "b48fb313",
      "metadata": {
        "colab": {
          "base_uri": "https://localhost:8080/"
        },
        "id": "b48fb313",
        "outputId": "a13abc14-d37c-4f5b-f0ad-0c46cfd0efb5"
      },
      "outputs": [
        {
          "output_type": "execute_result",
          "data": {
            "text/plain": [
              "0"
            ]
          },
          "metadata": {},
          "execution_count": 8
        }
      ],
      "source": [
        "digits.target[10]"
      ]
    },
    {
      "cell_type": "code",
      "execution_count": null,
      "id": "7418d924",
      "metadata": {
        "colab": {
          "base_uri": "https://localhost:8080/"
        },
        "id": "7418d924",
        "outputId": "e1833f1f-2bc5-4272-b2be-dbe5b1219d44"
      },
      "outputs": [
        {
          "output_type": "stream",
          "name": "stdout",
          "text": [
            "(1257, 64) (1257, 64)\n"
          ]
        }
      ],
      "source": [
        "X_digits = digits.data\n",
        "y_digits = digits.target\n",
        "\n",
        "num_data_points = len(X_digits)\n",
        "X_train = X_digits[:int(.7*num_data_points)]\n",
        "y_train = y_digits[:int(.7*num_data_points)]\n",
        "X_test = X_digits[:int(.7*num_data_points)]\n",
        "y_test = y_digits[:int(.7*num_data_points)]\n",
        "\n",
        "print(X_train.shape, X_test.shape)"
      ]
    },
    {
      "cell_type": "code",
      "execution_count": null,
      "id": "6968a742",
      "metadata": {
        "colab": {
          "base_uri": "https://localhost:8080/",
          "height": 233
        },
        "id": "6968a742",
        "outputId": "88234d70-8169-4a7b-f043-50e022961856"
      },
      "outputs": [
        {
          "output_type": "stream",
          "name": "stderr",
          "text": [
            "/usr/local/lib/python3.10/dist-packages/sklearn/linear_model/_logistic.py:458: ConvergenceWarning: lbfgs failed to converge (status=1):\n",
            "STOP: TOTAL NO. of ITERATIONS REACHED LIMIT.\n",
            "\n",
            "Increase the number of iterations (max_iter) or scale the data as shown in:\n",
            "    https://scikit-learn.org/stable/modules/preprocessing.html\n",
            "Please also refer to the documentation for alternative solver options:\n",
            "    https://scikit-learn.org/stable/modules/linear_model.html#logistic-regression\n",
            "  n_iter_i = _check_optimize_result(\n"
          ]
        },
        {
          "output_type": "execute_result",
          "data": {
            "text/plain": [
              "LogisticRegression()"
            ],
            "text/html": [
              "<style>#sk-container-id-1 {color: black;background-color: white;}#sk-container-id-1 pre{padding: 0;}#sk-container-id-1 div.sk-toggleable {background-color: white;}#sk-container-id-1 label.sk-toggleable__label {cursor: pointer;display: block;width: 100%;margin-bottom: 0;padding: 0.3em;box-sizing: border-box;text-align: center;}#sk-container-id-1 label.sk-toggleable__label-arrow:before {content: \"▸\";float: left;margin-right: 0.25em;color: #696969;}#sk-container-id-1 label.sk-toggleable__label-arrow:hover:before {color: black;}#sk-container-id-1 div.sk-estimator:hover label.sk-toggleable__label-arrow:before {color: black;}#sk-container-id-1 div.sk-toggleable__content {max-height: 0;max-width: 0;overflow: hidden;text-align: left;background-color: #f0f8ff;}#sk-container-id-1 div.sk-toggleable__content pre {margin: 0.2em;color: black;border-radius: 0.25em;background-color: #f0f8ff;}#sk-container-id-1 input.sk-toggleable__control:checked~div.sk-toggleable__content {max-height: 200px;max-width: 100%;overflow: auto;}#sk-container-id-1 input.sk-toggleable__control:checked~label.sk-toggleable__label-arrow:before {content: \"▾\";}#sk-container-id-1 div.sk-estimator input.sk-toggleable__control:checked~label.sk-toggleable__label {background-color: #d4ebff;}#sk-container-id-1 div.sk-label input.sk-toggleable__control:checked~label.sk-toggleable__label {background-color: #d4ebff;}#sk-container-id-1 input.sk-hidden--visually {border: 0;clip: rect(1px 1px 1px 1px);clip: rect(1px, 1px, 1px, 1px);height: 1px;margin: -1px;overflow: hidden;padding: 0;position: absolute;width: 1px;}#sk-container-id-1 div.sk-estimator {font-family: monospace;background-color: #f0f8ff;border: 1px dotted black;border-radius: 0.25em;box-sizing: border-box;margin-bottom: 0.5em;}#sk-container-id-1 div.sk-estimator:hover {background-color: #d4ebff;}#sk-container-id-1 div.sk-parallel-item::after {content: \"\";width: 100%;border-bottom: 1px solid gray;flex-grow: 1;}#sk-container-id-1 div.sk-label:hover label.sk-toggleable__label {background-color: #d4ebff;}#sk-container-id-1 div.sk-serial::before {content: \"\";position: absolute;border-left: 1px solid gray;box-sizing: border-box;top: 0;bottom: 0;left: 50%;z-index: 0;}#sk-container-id-1 div.sk-serial {display: flex;flex-direction: column;align-items: center;background-color: white;padding-right: 0.2em;padding-left: 0.2em;position: relative;}#sk-container-id-1 div.sk-item {position: relative;z-index: 1;}#sk-container-id-1 div.sk-parallel {display: flex;align-items: stretch;justify-content: center;background-color: white;position: relative;}#sk-container-id-1 div.sk-item::before, #sk-container-id-1 div.sk-parallel-item::before {content: \"\";position: absolute;border-left: 1px solid gray;box-sizing: border-box;top: 0;bottom: 0;left: 50%;z-index: -1;}#sk-container-id-1 div.sk-parallel-item {display: flex;flex-direction: column;z-index: 1;position: relative;background-color: white;}#sk-container-id-1 div.sk-parallel-item:first-child::after {align-self: flex-end;width: 50%;}#sk-container-id-1 div.sk-parallel-item:last-child::after {align-self: flex-start;width: 50%;}#sk-container-id-1 div.sk-parallel-item:only-child::after {width: 0;}#sk-container-id-1 div.sk-dashed-wrapped {border: 1px dashed gray;margin: 0 0.4em 0.5em 0.4em;box-sizing: border-box;padding-bottom: 0.4em;background-color: white;}#sk-container-id-1 div.sk-label label {font-family: monospace;font-weight: bold;display: inline-block;line-height: 1.2em;}#sk-container-id-1 div.sk-label-container {text-align: center;}#sk-container-id-1 div.sk-container {/* jupyter's `normalize.less` sets `[hidden] { display: none; }` but bootstrap.min.css set `[hidden] { display: none !important; }` so we also need the `!important` here to be able to override the default hidden behavior on the sphinx rendered scikit-learn.org. See: https://github.com/scikit-learn/scikit-learn/issues/21755 */display: inline-block !important;position: relative;}#sk-container-id-1 div.sk-text-repr-fallback {display: none;}</style><div id=\"sk-container-id-1\" class=\"sk-top-container\"><div class=\"sk-text-repr-fallback\"><pre>LogisticRegression()</pre><b>In a Jupyter environment, please rerun this cell to show the HTML representation or trust the notebook. <br />On GitHub, the HTML representation is unable to render, please try loading this page with nbviewer.org.</b></div><div class=\"sk-container\" hidden><div class=\"sk-item\"><div class=\"sk-estimator sk-toggleable\"><input class=\"sk-toggleable__control sk-hidden--visually\" id=\"sk-estimator-id-1\" type=\"checkbox\" checked><label for=\"sk-estimator-id-1\" class=\"sk-toggleable__label sk-toggleable__label-arrow\">LogisticRegression</label><div class=\"sk-toggleable__content\"><pre>LogisticRegression()</pre></div></div></div></div></div>"
            ]
          },
          "metadata": {},
          "execution_count": 10
        }
      ],
      "source": [
        "from sklearn import linear_model\n",
        "logistic = linear_model.LogisticRegression()\n",
        "logistic.fit(X_train, y_train)"
      ]
    },
    {
      "cell_type": "code",
      "execution_count": null,
      "id": "dedfc20b",
      "metadata": {
        "colab": {
          "base_uri": "https://localhost:8080/"
        },
        "id": "dedfc20b",
        "outputId": "d481af46-6c34-486c-80b6-1ce875f6a26e"
      },
      "outputs": [
        {
          "output_type": "stream",
          "name": "stdout",
          "text": [
            "Logistic Regression mean Accuracy: 1.000000\n"
          ]
        }
      ],
      "source": [
        "print('Logistic Regression mean Accuracy: %f' %logistic.score(X_test, y_test))"
      ]
    },
    {
      "cell_type": "code",
      "execution_count": null,
      "id": "82a75efe",
      "metadata": {
        "colab": {
          "base_uri": "https://localhost:8080/"
        },
        "id": "82a75efe",
        "outputId": "26506e7c-f82b-44f9-b969-0d0472b9e7f2"
      },
      "outputs": [
        {
          "output_type": "stream",
          "name": "stdout",
          "text": [
            "(569, 30) ['mean radius' 'mean texture' 'mean perimeter' 'mean area'\n",
            " 'mean smoothness' 'mean compactness' 'mean concavity'\n",
            " 'mean concave points' 'mean symmetry' 'mean fractal dimension'\n",
            " 'radius error' 'texture error' 'perimeter error' 'area error'\n",
            " 'smoothness error' 'compactness error' 'concavity error'\n",
            " 'concave points error' 'symmetry error' 'fractal dimension error'\n",
            " 'worst radius' 'worst texture' 'worst perimeter' 'worst area'\n",
            " 'worst smoothness' 'worst compactness' 'worst concavity'\n",
            " 'worst concave points' 'worst symmetry' 'worst fractal dimension']\n"
          ]
        }
      ],
      "source": [
        "import numpy as p\n",
        "from sklearn.datasets import load_breast_cancer\n",
        "\n",
        "data = load_breast_cancer()\n",
        "X = data.data\n",
        "y = data.target\n",
        "print(X.shape, data.feature_names)"
      ]
    },
    {
      "cell_type": "code",
      "execution_count": null,
      "id": "239827d1",
      "metadata": {
        "colab": {
          "base_uri": "https://localhost:8080/"
        },
        "id": "239827d1",
        "outputId": "8ed2e8e8-e864-4f01-bd0e-08b9625b1d20"
      },
      "outputs": [
        {
          "output_type": "stream",
          "name": "stderr",
          "text": [
            "/usr/local/lib/python3.10/dist-packages/sklearn/cluster/_kmeans.py:870: FutureWarning: The default value of `n_init` will change from 10 to 'auto' in 1.4. Set the value of `n_init` explicitly to suppress the warning\n",
            "  warnings.warn(\n"
          ]
        },
        {
          "output_type": "stream",
          "name": "stdout",
          "text": [
            "[0 0 0 1 0 1 0 1 1 1]\n"
          ]
        }
      ],
      "source": [
        "from sklearn.cluster import KMeans\n",
        "\n",
        "km = KMeans(n_clusters=2, random_state=2)\n",
        "km.fit(X)\n",
        "\n",
        "labels = km.labels_\n",
        "centers=km.cluster_centers_\n",
        "print(labels[:10])"
      ]
    },
    {
      "cell_type": "code",
      "execution_count": null,
      "id": "ac412d2b",
      "metadata": {
        "id": "ac412d2b"
      },
      "outputs": [],
      "source": [
        "from sklearn.decomposition import PCA\n",
        "\n",
        "pca = PCA(n_components=2)\n",
        "bc_pca = pca.fit_transform(X)"
      ]
    },
    {
      "cell_type": "code",
      "execution_count": null,
      "id": "4ee21a3b",
      "metadata": {
        "colab": {
          "base_uri": "https://localhost:8080/",
          "height": 408
        },
        "id": "4ee21a3b",
        "outputId": "e1b1433f-3532-436a-8bea-47967bde823d"
      },
      "outputs": [
        {
          "output_type": "display_data",
          "data": {
            "text/plain": [
              "<Figure size 800x400 with 2 Axes>"
            ],
            "image/png": "[encoded data removed]"
          },
          "metadata": {}
        }
      ],
      "source": [
        "fig, (ax1, ax2) = plt.subplots(1, 2, figsize=(8, 4))\n",
        "fig.suptitle('Visualizing breast cancer clusters')\n",
        "fig.subplots_adjust(top=0.85, wspace=0.5)\n",
        "ax1.set_title('Actual Labels')\n",
        "ax2.set_title('Clusteres Labels')\n",
        "\n",
        "for i in range(len(y)):\n",
        "    if y[i] == 0:\n",
        "        c1 = ax1.scatter(bc_pca[i, 0], bc_pca[i, 1], c='g', marker='.')\n",
        "    if y[i] == 1:\n",
        "        c2 = ax1.scatter(bc_pca[i, 0], bc_pca[i, 1], c='r', marker='.')\n",
        "\n",
        "    if labels[i] == 0:\n",
        "        c3 = ax2.scatter(bc_pca[i, 0], bc_pca[i, 1], c='g', marker='.')\n",
        "    if labels[i] == 1:\n",
        "        c4 = ax1.scatter(bc_pca[i, 0], bc_pca[i, 1], c='r', marker='.')\n",
        "\n",
        "l1 = ax1.legend([c1, c2], ['0', '1'])\n",
        "l2 = ax1.legend([c3, c4], ['0', '1'])"
      ]
    },
    {
      "cell_type": "code",
      "execution_count": null,
      "id": "905bdfd8",
      "metadata": {
        "colab": {
          "base_uri": "https://localhost:8080/"
        },
        "id": "905bdfd8",
        "outputId": "4a822e5d-392c-4012-e63a-4224eac7f4c1"
      },
      "outputs": [
        {
          "output_type": "stream",
          "name": "stdout",
          "text": [
            "[[  287.           336.             3.81596727     2.        ]\n",
            " [  106.           420.             4.11664267     2.        ]\n",
            " [   55.           251.             4.93361024     2.        ]\n",
            " ...\n",
            " [ 1130.          1132.          6196.07482529    86.        ]\n",
            " [ 1131.          1133.          8368.99225244   483.        ]\n",
            " [ 1134.          1135.         18371.10293626   569.        ]]\n"
          ]
        }
      ],
      "source": [
        "from scipy.cluster.hierarchy import dendrogram, linkage\n",
        "import numpy as np\n",
        "np.set_printoptions(suppress= True)\n",
        "\n",
        "Z=linkage(X, 'ward')\n",
        "print(Z)"
      ]
    },
    {
      "cell_type": "code",
      "execution_count": null,
      "id": "9fae37b7",
      "metadata": {
        "colab": {
          "base_uri": "https://localhost:8080/",
          "height": 333
        },
        "id": "9fae37b7",
        "outputId": "e6194896-526a-4a6a-cd63-82b6e43cec3e"
      },
      "outputs": [
        {
          "output_type": "display_data",
          "data": {
            "text/plain": [
              "<Figure size 800x300 with 1 Axes>"
            ],
            "image/png": "[encoded data removed]"
          },
          "metadata": {}
        }
      ],
      "source": [
        "plt.figure(figsize=(8, 3))\n",
        "plt.title('Hierarchical Clustering Dendogram')\n",
        "plt.xlabel('Data Point')\n",
        "plt.ylabel('Distance')\n",
        "dendrogram(Z)\n",
        "\n",
        "plt.axhline(y=10000, c='k', ls='--', lw=0.5)\n",
        "plt.show()"
      ]
    },
    {
      "cell_type": "code",
      "execution_count": null,
      "id": "44e68b60",
      "metadata": {
        "id": "44e68b60"
      },
      "outputs": [],
      "source": [
        "from scipy.cluster.hierarchy import fcluster\n",
        "max_dist = 10000\n",
        "hc_labels = fcluster(Z, max_dist, criterion = 'distance')"
      ]
    },
    {
      "cell_type": "code",
      "execution_count": null,
      "id": "a2fb8b87",
      "metadata": {
        "colab": {
          "base_uri": "https://localhost:8080/",
          "height": 408
        },
        "id": "a2fb8b87",
        "outputId": "77b1315b-eb62-4e8d-e5ba-4bcb597f62bc"
      },
      "outputs": [
        {
          "output_type": "display_data",
          "data": {
            "text/plain": [
              "<Figure size 800x400 with 2 Axes>"
            ],
            "image/png": "[encoded data removed]"
          },
          "metadata": {}
        }
      ],
      "source": [
        "fig, (ax1, ax2) = plt.subplots(1, 2, figsize=(8, 4))\n",
        "fig.suptitle('Visualizing breast cancer clusters')\n",
        "fig.subplots_adjust(top=0.85, wspace=0.5)\n",
        "ax1.set_title('Actual Labels')\n",
        "ax2.set_title('Clusteres Labels')\n",
        "\n",
        "for i in range(len(y)):\n",
        "    if y[i] == 0:\n",
        "        c1 = ax1.scatter(bc_pca[i, 0], bc_pca[i, 1], c='g', marker='.')\n",
        "    if y[i] == 1:\n",
        "        c2 = ax1.scatter(bc_pca[i, 0], bc_pca[i, 1], c='r', marker='.')\n",
        "\n",
        "    if labels[i] == 0:\n",
        "        c3 = ax2.scatter(bc_pca[i, 0], bc_pca[i, 1], c='g', marker='.')\n",
        "    if labels[i] == 1:\n",
        "        c4 = ax1.scatter(bc_pca[i, 0], bc_pca[i, 1], c='r', marker='.')\n",
        "\n",
        "l1 = ax1.legend([c1, c2], ['0', '1'])\n",
        "l2 = ax1.legend([c3, c4], ['1', '2'])"
      ]
    },
    {
      "cell_type": "code",
      "execution_count": null,
      "id": "b3b967d7",
      "metadata": {
        "colab": {
          "base_uri": "https://localhost:8080/"
        },
        "id": "b3b967d7",
        "outputId": "27d75b04-5bd7-45ff-b7b2-2a9277483b54"
      },
      "outputs": [
        {
          "output_type": "stream",
          "name": "stdout",
          "text": [
            "(398, 30) (171, 30)\n"
          ]
        }
      ],
      "source": [
        "from sklearn.model_selection import train_test_split\n",
        "\n",
        "X_train, X_test, y_train, y_test = train_test_split(X, y, test_size=0.3, random_state=42)\n",
        "print(X_train.shape, X_test.shape)"
      ]
    },
    {
      "cell_type": "code",
      "execution_count": null,
      "id": "691c748b",
      "metadata": {
        "colab": {
          "base_uri": "https://localhost:8080/",
          "height": 233
        },
        "id": "691c748b",
        "outputId": "4c53e751-b0ea-4bbc-a658-56621200fbe9"
      },
      "outputs": [
        {
          "output_type": "stream",
          "name": "stderr",
          "text": [
            "/usr/local/lib/python3.10/dist-packages/sklearn/linear_model/_logistic.py:458: ConvergenceWarning: lbfgs failed to converge (status=1):\n",
            "STOP: TOTAL NO. of ITERATIONS REACHED LIMIT.\n",
            "\n",
            "Increase the number of iterations (max_iter) or scale the data as shown in:\n",
            "    https://scikit-learn.org/stable/modules/preprocessing.html\n",
            "Please also refer to the documentation for alternative solver options:\n",
            "    https://scikit-learn.org/stable/modules/linear_model.html#logistic-regression\n",
            "  n_iter_i = _check_optimize_result(\n"
          ]
        },
        {
          "output_type": "execute_result",
          "data": {
            "text/plain": [
              "LogisticRegression()"
            ],
            "text/html": [
              "<style>#sk-container-id-2 {color: black;background-color: white;}#sk-container-id-2 pre{padding: 0;}#sk-container-id-2 div.sk-toggleable {background-color: white;}#sk-container-id-2 label.sk-toggleable__label {cursor: pointer;display: block;width: 100%;margin-bottom: 0;padding: 0.3em;box-sizing: border-box;text-align: center;}#sk-container-id-2 label.sk-toggleable__label-arrow:before {content: \"▸\";float: left;margin-right: 0.25em;color: #696969;}#sk-container-id-2 label.sk-toggleable__label-arrow:hover:before {color: black;}#sk-container-id-2 div.sk-estimator:hover label.sk-toggleable__label-arrow:before {color: black;}#sk-container-id-2 div.sk-toggleable__content {max-height: 0;max-width: 0;overflow: hidden;text-align: left;background-color: #f0f8ff;}#sk-container-id-2 div.sk-toggleable__content pre {margin: 0.2em;color: black;border-radius: 0.25em;background-color: #f0f8ff;}#sk-container-id-2 input.sk-toggleable__control:checked~div.sk-toggleable__content {max-height: 200px;max-width: 100%;overflow: auto;}#sk-container-id-2 input.sk-toggleable__control:checked~label.sk-toggleable__label-arrow:before {content: \"▾\";}#sk-container-id-2 div.sk-estimator input.sk-toggleable__control:checked~label.sk-toggleable__label {background-color: #d4ebff;}#sk-container-id-2 div.sk-label input.sk-toggleable__control:checked~label.sk-toggleable__label {background-color: #d4ebff;}#sk-container-id-2 input.sk-hidden--visually {border: 0;clip: rect(1px 1px 1px 1px);clip: rect(1px, 1px, 1px, 1px);height: 1px;margin: -1px;overflow: hidden;padding: 0;position: absolute;width: 1px;}#sk-container-id-2 div.sk-estimator {font-family: monospace;background-color: #f0f8ff;border: 1px dotted black;border-radius: 0.25em;box-sizing: border-box;margin-bottom: 0.5em;}#sk-container-id-2 div.sk-estimator:hover {background-color: #d4ebff;}#sk-container-id-2 div.sk-parallel-item::after {content: \"\";width: 100%;border-bottom: 1px solid gray;flex-grow: 1;}#sk-container-id-2 div.sk-label:hover label.sk-toggleable__label {background-color: #d4ebff;}#sk-container-id-2 div.sk-serial::before {content: \"\";position: absolute;border-left: 1px solid gray;box-sizing: border-box;top: 0;bottom: 0;left: 50%;z-index: 0;}#sk-container-id-2 div.sk-serial {display: flex;flex-direction: column;align-items: center;background-color: white;padding-right: 0.2em;padding-left: 0.2em;position: relative;}#sk-container-id-2 div.sk-item {position: relative;z-index: 1;}#sk-container-id-2 div.sk-parallel {display: flex;align-items: stretch;justify-content: center;background-color: white;position: relative;}#sk-container-id-2 div.sk-item::before, #sk-container-id-2 div.sk-parallel-item::before {content: \"\";position: absolute;border-left: 1px solid gray;box-sizing: border-box;top: 0;bottom: 0;left: 50%;z-index: -1;}#sk-container-id-2 div.sk-parallel-item {display: flex;flex-direction: column;z-index: 1;position: relative;background-color: white;}#sk-container-id-2 div.sk-parallel-item:first-child::after {align-self: flex-end;width: 50%;}#sk-container-id-2 div.sk-parallel-item:last-child::after {align-self: flex-start;width: 50%;}#sk-container-id-2 div.sk-parallel-item:only-child::after {width: 0;}#sk-container-id-2 div.sk-dashed-wrapped {border: 1px dashed gray;margin: 0 0.4em 0.5em 0.4em;box-sizing: border-box;padding-bottom: 0.4em;background-color: white;}#sk-container-id-2 div.sk-label label {font-family: monospace;font-weight: bold;display: inline-block;line-height: 1.2em;}#sk-container-id-2 div.sk-label-container {text-align: center;}#sk-container-id-2 div.sk-container {/* jupyter's `normalize.less` sets `[hidden] { display: none; }` but bootstrap.min.css set `[hidden] { display: none !important; }` so we also need the `!important` here to be able to override the default hidden behavior on the sphinx rendered scikit-learn.org. See: https://github.com/scikit-learn/scikit-learn/issues/21755 */display: inline-block !important;position: relative;}#sk-container-id-2 div.sk-text-repr-fallback {display: none;}</style><div id=\"sk-container-id-2\" class=\"sk-top-container\"><div class=\"sk-text-repr-fallback\"><pre>LogisticRegression()</pre><b>In a Jupyter environment, please rerun this cell to show the HTML representation or trust the notebook. <br />On GitHub, the HTML representation is unable to render, please try loading this page with nbviewer.org.</b></div><div class=\"sk-container\" hidden><div class=\"sk-item\"><div class=\"sk-estimator sk-toggleable\"><input class=\"sk-toggleable__control sk-hidden--visually\" id=\"sk-estimator-id-2\" type=\"checkbox\" checked><label for=\"sk-estimator-id-2\" class=\"sk-toggleable__label sk-toggleable__label-arrow\">LogisticRegression</label><div class=\"sk-toggleable__content\"><pre>LogisticRegression()</pre></div></div></div></div></div>"
            ]
          },
          "metadata": {},
          "execution_count": 21
        }
      ],
      "source": [
        "from sklearn import linear_model\n",
        "\n",
        "logistic=linear_model.LogisticRegression()\n",
        "logistic.fit(X_train, y_train)"
      ]
    },
    {
      "cell_type": "code",
      "execution_count": null,
      "id": "14c0c63a",
      "metadata": {
        "colab": {
          "base_uri": "https://localhost:8080/"
        },
        "id": "14c0c63a",
        "outputId": "049705bb-78c1-4632-d006-7c65e2ef9b54"
      },
      "outputs": [
        {
          "output_type": "stream",
          "name": "stdout",
          "text": [
            "          Predicted:     \n",
            "                   0    1\n",
            "Actual: 0         59    4\n",
            "        1          1  107\n"
          ]
        }
      ],
      "source": [
        "import model_evaluation_utils as meu\n",
        "\n",
        "y_pred = logistic.predict(X_test)\n",
        "meu.display_confusion_matrix(true_labels=y_test, predicted_labels=y_pred, classes=[0, 1])"
      ]
    },
    {
      "cell_type": "code",
      "execution_count": null,
      "id": "76e806b0",
      "metadata": {
        "id": "76e806b0"
      },
      "outputs": [],
      "source": [
        "possitive_class = 1\n",
        "TP = 106\n",
        "FP=4\n",
        "TN=9\n",
        "FN=2"
      ]
    },
    {
      "cell_type": "code",
      "execution_count": null,
      "id": "bb6e3cda",
      "metadata": {
        "colab": {
          "base_uri": "https://localhost:8080/"
        },
        "id": "bb6e3cda",
        "outputId": "7fa9be8e-9db5-460c-ab97-893e3c05a2b6"
      },
      "outputs": [
        {
          "output_type": "stream",
          "name": "stdout",
          "text": [
            "Framework Accuracy:  0.97076\n",
            "Manually Computed Accuracy:  0.95041\n"
          ]
        }
      ],
      "source": [
        "fw_acc = round(meu.metrics.accuracy_score(y_true=y_test, y_pred=y_pred), 5)\n",
        "mc_acc = round((TP + TN) / (TP + TN + FP + FN), 5)\n",
        "\n",
        "print('Framework Accuracy: ', fw_acc)\n",
        "print('Manually Computed Accuracy: ', mc_acc)"
      ]
    },
    {
      "cell_type": "code",
      "execution_count": null,
      "id": "ee956e9b",
      "metadata": {
        "colab": {
          "base_uri": "https://localhost:8080/"
        },
        "id": "ee956e9b",
        "outputId": "09671113-9a4f-47ce-a6ae-672c31b362ca"
      },
      "outputs": [
        {
          "output_type": "stream",
          "name": "stdout",
          "text": [
            "Framework Accuracy:  0.97076\n",
            "Manually Computed Accuracy:  0.96364\n"
          ]
        }
      ],
      "source": [
        "fw_acc = round(meu.metrics.accuracy_score(y_true=y_test, y_pred=y_pred), 5)\n",
        "mc_acc = round((TP) / (TP + FP), 5)\n",
        "\n",
        "print('Framework Accuracy: ', fw_acc)\n",
        "print('Manually Computed Accuracy: ', mc_acc)"
      ]
    },
    {
      "cell_type": "code",
      "execution_count": null,
      "id": "1139d9fb",
      "metadata": {
        "colab": {
          "base_uri": "https://localhost:8080/"
        },
        "id": "1139d9fb",
        "outputId": "3d0e2e12-8912-4a16-e0a0-7dfb5d19a8cb"
      },
      "outputs": [
        {
          "output_type": "stream",
          "name": "stdout",
          "text": [
            "Framework Accuracy:  0.97076\n",
            "Manually Computed Accuracy:  0.96364\n"
          ]
        }
      ],
      "source": [
        "fw_rec = round(meu.metrics.accuracy_score(y_true=y_test, y_pred=y_pred), 5)\n",
        "mc_rec = round((TP) / (TP + FP), 5)\n",
        "\n",
        "print('Framework Accuracy: ', fw_rec)\n",
        "print('Manually Computed Accuracy: ', mc_rec)"
      ]
    },
    {
      "cell_type": "code",
      "execution_count": null,
      "id": "8b67bc4f",
      "metadata": {
        "colab": {
          "base_uri": "https://localhost:8080/"
        },
        "id": "8b67bc4f",
        "outputId": "d78480a0-5e05-45f4-8c78-3faa312e6bbb"
      },
      "outputs": [
        {
          "output_type": "stream",
          "name": "stdout",
          "text": [
            "Framework Accuracy:  0.97076\n",
            "Manually Computed Accuracy:  0.96364\n"
          ]
        }
      ],
      "source": [
        "fw_f1 = round(meu.metrics.accuracy_score(y_true=y_test, y_pred=y_pred), 5)\n",
        "mc_f1 = round((2*mc_rec*mc_rec) / (mc_rec + mc_rec), 5)\n",
        "\n",
        "print('Framework Accuracy: ', fw_f1)\n",
        "print('Manually Computed Accuracy: ', mc_f1)"
      ]
    },
    {
      "cell_type": "code",
      "execution_count": null,
      "id": "add5b670",
      "metadata": {
        "colab": {
          "base_uri": "https://localhost:8080/",
          "height": 472
        },
        "id": "add5b670",
        "outputId": "9060cba3-dae7-40d8-f4f9-c6f911062b71"
      },
      "outputs": [
        {
          "output_type": "display_data",
          "data": {
            "text/plain": [
              "<Figure size 640x480 with 1 Axes>"
            ],
            "image/png": "[encoded data removed]"
          },
          "metadata": {}
        }
      ],
      "source": [
        "meu.plot_model_roc_curve(clf=logistic, features=X_test, true_labels=y_test)"
      ]
    },
    {
      "cell_type": "code",
      "execution_count": null,
      "id": "816d8d37",
      "metadata": {
        "colab": {
          "base_uri": "https://localhost:8080/"
        },
        "id": "816d8d37",
        "outputId": "dc7e95aa-8edd-4506-e252-bebb2b325972"
      },
      "outputs": [
        {
          "output_type": "stream",
          "name": "stderr",
          "text": [
            "/usr/local/lib/python3.10/dist-packages/sklearn/cluster/_kmeans.py:870: FutureWarning: The default value of `n_init` will change from 10 to 'auto' in 1.4. Set the value of `n_init` explicitly to suppress the warning\n",
            "  warnings.warn(\n",
            "/usr/local/lib/python3.10/dist-packages/sklearn/cluster/_kmeans.py:870: FutureWarning: The default value of `n_init` will change from 10 to 'auto' in 1.4. Set the value of `n_init` explicitly to suppress the warning\n",
            "  warnings.warn(\n"
          ]
        }
      ],
      "source": [
        "km2 = KMeans(n_clusters=2, random_state=42).fit(X)\n",
        "km2_labels = km2.labels_\n",
        "\n",
        "km5 = KMeans(n_clusters=5, random_state=42).fit(X)\n",
        "km5_labels = km5.labels_"
      ]
    },
    {
      "cell_type": "code",
      "execution_count": null,
      "id": "f8cd84e0",
      "metadata": {
        "colab": {
          "base_uri": "https://localhost:8080/"
        },
        "id": "f8cd84e0",
        "outputId": "9b8463c1-8204-4c87-c4f3-bb2afa48d13f"
      },
      "outputs": [
        {
          "output_type": "stream",
          "name": "stdout",
          "text": [
            "Homogeneity, Completeness, V-meassure metrics for num clusters=2:  [0.422 0.517 0.465]\n",
            "Homogeneity, Completeness, V-meassure metrics for num clusters=5:  [0.602 0.298 0.398]\n"
          ]
        }
      ],
      "source": [
        "km2_hcv = np.round(metrics.homogeneity_completeness_v_measure(y, km2_labels), 3)\n",
        "km5_hcv = np.round(metrics.homogeneity_completeness_v_measure(y, km5_labels), 3)\n",
        "\n",
        "print('Homogeneity, Completeness, V-meassure metrics for num clusters=2: ', km2_hcv)\n",
        "print('Homogeneity, Completeness, V-meassure metrics for num clusters=5: ', km5_hcv)"
      ]
    },
    {
      "cell_type": "code",
      "execution_count": null,
      "id": "bf6ff7fb",
      "metadata": {
        "colab": {
          "base_uri": "https://localhost:8080/"
        },
        "id": "bf6ff7fb",
        "outputId": "46fa7ac5-7af9-4f57-97a3-398b92495b4f"
      },
      "outputs": [
        {
          "output_type": "stream",
          "name": "stdout",
          "text": [
            "Silhouette Coefficient for num clusters=2:  0.6972646156059464\n",
            "Silhouette Coefficient for num clusters=5:  0.6972646156059464\n"
          ]
        }
      ],
      "source": [
        "from sklearn import metrics\n",
        "\n",
        "km2_silc = metrics.silhouette_score(X, km2_labels, metric='euclidean')\n",
        "km5_silc = metrics.silhouette_score(X, km5_labels, metric='euclidean')\n",
        "\n",
        "print('Silhouette Coefficient for num clusters=2: ', km2_silc)\n",
        "print('Silhouette Coefficient for num clusters=5: ', km2_silc)"
      ]
    },
    {
      "cell_type": "code",
      "execution_count": null,
      "id": "f1780353",
      "metadata": {
        "id": "f1780353"
      },
      "outputs": [],
      "source": [
        "from sklearn.datasets import make_regression\n",
        "from sklearn.model_selection import cross_val_score\n",
        "from sklearn.linear_model import LinearRegression"
      ]
    },
    {
      "cell_type": "code",
      "execution_count": null,
      "id": "35d4c379",
      "metadata": {
        "id": "35d4c379"
      },
      "outputs": [],
      "source": [
        "feature, target = make_regression(n_samples=100,\n",
        "                                 n_features=3,\n",
        "                                 n_informative=3,\n",
        "                                 n_targets=1,\n",
        "                                 noise=1,\n",
        "                                 coef=False,\n",
        "                                 random_state=1)"
      ]
    },
    {
      "cell_type": "code",
      "execution_count": null,
      "id": "abaf666d",
      "metadata": {
        "id": "abaf666d"
      },
      "outputs": [],
      "source": [
        "ols = LinearRegression()"
      ]
    },
    {
      "cell_type": "code",
      "execution_count": null,
      "id": "a9a7f8da",
      "metadata": {
        "colab": {
          "base_uri": "https://localhost:8080/"
        },
        "id": "a9a7f8da",
        "outputId": "ea8ace3e-d1b2-4e8c-bd0e-d5428cb8f0b7"
      },
      "outputs": [
        {
          "output_type": "execute_result",
          "data": {
            "text/plain": [
              "array([-0.78986135, -0.80181655, -1.57407742, -0.42401745, -0.63949642])"
            ]
          },
          "metadata": {},
          "execution_count": 49
        }
      ],
      "source": [
        "cross_val_score(ols, feature, target, scoring='neg_mean_squared_error')"
      ]
    },
    {
      "cell_type": "code",
      "execution_count": null,
      "id": "3b1a6742",
      "metadata": {
        "colab": {
          "base_uri": "https://localhost:8080/"
        },
        "id": "3b1a6742",
        "outputId": "4d4bdfb8-4388-4d9a-c447-5072d7bb70c6"
      },
      "outputs": [
        {
          "output_type": "execute_result",
          "data": {
            "text/plain": [
              "array([0.99994298, 0.99991772, 0.99985451, 0.9999636 , 0.99991436])"
            ]
          },
          "metadata": {},
          "execution_count": 50
        }
      ],
      "source": [
        "cross_val_score(ols, feature, target, scoring='r2')"
      ]
    },
    {
      "cell_type": "code",
      "execution_count": null,
      "id": "e49e61aa",
      "metadata": {
        "colab": {
          "base_uri": "https://localhost:8080/"
        },
        "id": "e49e61aa",
        "outputId": "04f1f27e-911c-46a9-f437-2d21d201e1e8"
      },
      "outputs": [
        {
          "output_type": "stream",
          "name": "stdout",
          "text": [
            "Default Model Stats: \n",
            "Model Performance metrics:\n",
            "------------------------------\n",
            "Accuracy: 0.9357\n",
            "Precision: 0.9416\n",
            "Recall: 0.9357\n",
            "F1 Score: 0.9342\n",
            "\n",
            "Model Classification report:\n",
            "------------------------------\n",
            "              precision    recall  f1-score   support\n",
            "\n",
            "           0       1.00      0.83      0.90        63\n",
            "           1       0.91      1.00      0.95       108\n",
            "\n",
            "    accuracy                           0.94       171\n",
            "   macro avg       0.95      0.91      0.93       171\n",
            "weighted avg       0.94      0.94      0.93       171\n",
            "\n",
            "\n",
            "Prediction Confusion Matrix:\n",
            "------------------------------\n",
            "          Predicted:     \n",
            "                   0    1\n",
            "Actual: 0         52   11\n",
            "        1          0  108\n"
          ]
        }
      ],
      "source": [
        "from sklearn.model_selection import train_test_split\n",
        "from sklearn.svm import SVC\n",
        "\n",
        "X_train, X_test, y_train, y_test = train_test_split(X, y, test_size=0.3, random_state=42)\n",
        "\n",
        "def_svc = SVC(random_state=42)\n",
        "def_svc.fit(X_train, y_train)\n",
        "\n",
        "def_y_pred = def_svc.predict(X_test)\n",
        "print('Default Model Stats: ')\n",
        "meu.display_model_performance_metrics(true_labels=y_test, predicted_labels=def_y_pred, classes=[0, 1])"
      ]
    },
    {
      "cell_type": "code",
      "execution_count": null,
      "id": "87e5d9c7",
      "metadata": {
        "colab": {
          "base_uri": "https://localhost:8080/"
        },
        "id": "87e5d9c7",
        "outputId": "1ca16966-b679-496c-d0e1-9bdc2642c0f2"
      },
      "outputs": [
        {
          "output_type": "stream",
          "name": "stdout",
          "text": [
            "# Tuning hyper-parameters for accuracy\n",
            "\n",
            "Grid scores for all the models based on CV: \n",
            "\n",
            "0.95218 (+/-0.06256) for {'C': 1, 'gamma': 0.001, 'kernel': 'linear'}\n",
            "0.91193 (+/-0.04607) for {'C': 1, 'gamma': 0.001, 'kernel': 'rbf'}\n",
            "0.95218 (+/-0.06256) for {'C': 1, 'gamma': 0.0001, 'kernel': 'linear'}\n",
            "0.92459 (+/-0.02287) for {'C': 1, 'gamma': 0.0001, 'kernel': 'rbf'}\n",
            "0.96228 (+/-0.04244) for {'C': 10, 'gamma': 0.001, 'kernel': 'linear'}\n",
            "0.90187 (+/-0.04735) for {'C': 10, 'gamma': 0.001, 'kernel': 'rbf'}\n",
            "0.96228 (+/-0.04244) for {'C': 10, 'gamma': 0.0001, 'kernel': 'linear'}\n",
            "0.92959 (+/-0.03449) for {'C': 10, 'gamma': 0.0001, 'kernel': 'rbf'}\n",
            "0.95718 (+/-0.05923) for {'C': 50, 'gamma': 0.001, 'kernel': 'linear'}\n",
            "0.90187 (+/-0.04735) for {'C': 50, 'gamma': 0.001, 'kernel': 'rbf'}\n",
            "0.95718 (+/-0.05923) for {'C': 50, 'gamma': 0.0001, 'kernel': 'linear'}\n",
            "0.93462 (+/-0.02969) for {'C': 50, 'gamma': 0.0001, 'kernel': 'rbf'}\n",
            "0.95468 (+/-0.05703) for {'C': 100, 'gamma': 0.001, 'kernel': 'linear'}\n",
            "0.90187 (+/-0.04735) for {'C': 100, 'gamma': 0.001, 'kernel': 'rbf'}\n",
            "0.95468 (+/-0.05703) for {'C': 100, 'gamma': 0.0001, 'kernel': 'linear'}\n",
            "0.93209 (+/-0.04688) for {'C': 100, 'gamma': 0.0001, 'kernel': 'rbf'}\n",
            "\n",
            "Best parameters set found on development set:  {'C': 10, 'gamma': 0.001, 'kernel': 'linear'}\n",
            "Best model validation accuracy:  0.9622784810126582\n"
          ]
        }
      ],
      "source": [
        "from sklearn.model_selection import GridSearchCV\n",
        "\n",
        "grid_parameters = {'kernel': ['linear', 'rbf'],\n",
        "                  'gamma': [1e-3, 1e-4],\n",
        "                  'C': [1, 10, 50, 100]}\n",
        "\n",
        "print(\"# Tuning hyper-parameters for accuracy\\n\")\n",
        "clf = GridSearchCV(SVC(random_state=42), grid_parameters, cv=5, scoring='accuracy')\n",
        "clf.fit(X_train, y_train)\n",
        "\n",
        "print(\"Grid scores for all the models based on CV: \\n\")\n",
        "means = clf.cv_results_['mean_test_score']\n",
        "stds = clf.cv_results_['std_test_score']\n",
        "for mean, std, params in zip(means, stds, clf.cv_results_['params']):\n",
        "    print(\"%0.5f (+/-%0.05f) for %r\" % (mean, std * 2, params))\n",
        "\n",
        "print(\"\\nBest parameters set found on development set: \", clf.best_params_)\n",
        "print(\"Best model validation accuracy: \", clf.best_score_)"
      ]
    },
    {
      "cell_type": "code",
      "execution_count": null,
      "id": "849fdd91",
      "metadata": {
        "colab": {
          "base_uri": "https://localhost:8080/"
        },
        "id": "849fdd91",
        "outputId": "14e408d8-dd5d-490b-9958-0346a2844584"
      },
      "outputs": [
        {
          "output_type": "stream",
          "name": "stdout",
          "text": [
            "\n",
            "\n",
            "Tuned Model Stats: \n",
            "Model Performance metrics:\n",
            "------------------------------\n",
            "Accuracy: 0.9708\n",
            "Precision: 0.9709\n",
            "Recall: 0.9708\n",
            "F1 Score: 0.9708\n",
            "\n",
            "Model Classification report:\n",
            "------------------------------\n",
            "              precision    recall  f1-score   support\n",
            "\n",
            "           0       0.95      0.97      0.96        63\n",
            "           1       0.98      0.97      0.98       108\n",
            "\n",
            "    accuracy                           0.97       171\n",
            "   macro avg       0.97      0.97      0.97       171\n",
            "weighted avg       0.97      0.97      0.97       171\n",
            "\n",
            "\n",
            "Prediction Confusion Matrix:\n",
            "------------------------------\n",
            "          Predicted:     \n",
            "                   0    1\n",
            "Actual: 0         61    2\n",
            "        1          3  105\n"
          ]
        }
      ],
      "source": [
        "gs_best = clf.best_estimator_\n",
        "tuned_y_pred = gs_best.predict(X_test)\n",
        "\n",
        "print('\\n\\nTuned Model Stats: ')\n",
        "meu.display_model_performance_metrics(true_labels=y_test,\n",
        "                                     predicted_labels=tuned_y_pred, classes=[0, 1])"
      ]
    },
    {
      "cell_type": "code",
      "execution_count": null,
      "id": "5c927709",
      "metadata": {
        "colab": {
          "base_uri": "https://localhost:8080/"
        },
        "id": "5c927709",
        "outputId": "a2edd367-4d23-44d3-a7a9-fc1730f22832"
      },
      "outputs": [
        {
          "output_type": "stream",
          "name": "stdout",
          "text": [
            "Best parameters set found on development set: \n"
          ]
        },
        {
          "output_type": "execute_result",
          "data": {
            "text/plain": [
              "{'C': 16.349475954262452, 'gamma': 0.24319569795575433, 'kernel': 'linear'}"
            ]
          },
          "metadata": {},
          "execution_count": 58
        }
      ],
      "source": [
        "import scipy\n",
        "from sklearn.model_selection import RandomizedSearchCV\n",
        "\n",
        "param_grid = {'C': scipy.stats.expon(scale=10),\n",
        "             'gamma': scipy.stats.expon(scale=.1),\n",
        "             'kernel': ['rbf', 'linear']}\n",
        "\n",
        "random_search = RandomizedSearchCV(SVC(random_state=42), param_distributions=param_grid,\n",
        "                                 n_iter=50, cv=5)\n",
        "\n",
        "random_search.fit(X_train, y_train)\n",
        "\n",
        "print(\"Best parameters set found on development set: \")\n",
        "random_search.best_params_"
      ]
    },
    {
      "cell_type": "code",
      "execution_count": null,
      "id": "8d422b41",
      "metadata": {
        "colab": {
          "base_uri": "https://localhost:8080/"
        },
        "id": "8d422b41",
        "outputId": "3042d26b-4647-4991-b399-b98f4c906585"
      },
      "outputs": [
        {
          "output_type": "stream",
          "name": "stdout",
          "text": [
            "Accuracy: 0.9591\n",
            "Precision: 0.9593\n",
            "Recall: 0.9591\n",
            "F1 Score: 0.9591\n"
          ]
        }
      ],
      "source": [
        "rs_best = random_search.best_estimator_\n",
        "rs_y_pred = rs_best.predict(X_test)\n",
        "meu.get_metrics(true_labels=y_test, predicted_labels=rs_y_pred)"
      ]
    },
    {
      "cell_type": "code",
      "execution_count": null,
      "id": "ba1dc9dd",
      "metadata": {
        "colab": {
          "base_uri": "https://localhost:8080/",
          "height": 391
        },
        "id": "ba1dc9dd",
        "outputId": "b1fbc7d3-c35c-4cbe-ee75-5e1bdb21d03b"
      },
      "outputs": [
        {
          "output_type": "error",
          "ename": "ValueError",
          "evalue": "ignored",
          "traceback": [
            "\u001b[0;31m---------------------------------------------------------------------------\u001b[0m",
            "\u001b[0;31mValueError\u001b[0m                                Traceback (most recent call last)",
            "\u001b[0;32m<ipython-input-71-cc4a75f0a551>\u001b[0m in \u001b[0;36m<cell line: 1>\u001b[0;34m()\u001b[0m\n\u001b[0;32m----> 1\u001b[0;31m \u001b[0mget_ipython\u001b[0m\u001b[0;34m(\u001b[0m\u001b[0;34m)\u001b[0m\u001b[0;34m.\u001b[0m\u001b[0mrun_line_magic\u001b[0m\u001b[0;34m(\u001b[0m\u001b[0;34m'conda'\u001b[0m\u001b[0;34m,\u001b[0m \u001b[0;34m'install -c conda-forge skater'\u001b[0m\u001b[0;34m)\u001b[0m\u001b[0;34m\u001b[0m\u001b[0;34m\u001b[0m\u001b[0m\n\u001b[0m",
            "\u001b[0;32m/usr/local/lib/python3.10/dist-packages/IPython/core/interactiveshell.py\u001b[0m in \u001b[0;36mrun_line_magic\u001b[0;34m(self, magic_name, line, _stack_depth)\u001b[0m\n\u001b[1;32m   2416\u001b[0m                 \u001b[0mkwargs\u001b[0m\u001b[0;34m[\u001b[0m\u001b[0;34m'local_ns'\u001b[0m\u001b[0;34m]\u001b[0m \u001b[0;34m=\u001b[0m \u001b[0mself\u001b[0m\u001b[0;34m.\u001b[0m\u001b[0mget_local_scope\u001b[0m\u001b[0;34m(\u001b[0m\u001b[0mstack_depth\u001b[0m\u001b[0;34m)\u001b[0m\u001b[0;34m\u001b[0m\u001b[0;34m\u001b[0m\u001b[0m\n\u001b[1;32m   2417\u001b[0m             \u001b[0;32mwith\u001b[0m \u001b[0mself\u001b[0m\u001b[0;34m.\u001b[0m\u001b[0mbuiltin_trap\u001b[0m\u001b[0;34m:\u001b[0m\u001b[0;34m\u001b[0m\u001b[0;34m\u001b[0m\u001b[0m\n\u001b[0;32m-> 2418\u001b[0;31m                 \u001b[0mresult\u001b[0m \u001b[0;34m=\u001b[0m \u001b[0mfn\u001b[0m\u001b[0;34m(\u001b[0m\u001b[0;34m*\u001b[0m\u001b[0margs\u001b[0m\u001b[0;34m,\u001b[0m \u001b[0;34m**\u001b[0m\u001b[0mkwargs\u001b[0m\u001b[0;34m)\u001b[0m\u001b[0;34m\u001b[0m\u001b[0;34m\u001b[0m\u001b[0m\n\u001b[0m\u001b[1;32m   2419\u001b[0m             \u001b[0;32mreturn\u001b[0m \u001b[0mresult\u001b[0m\u001b[0;34m\u001b[0m\u001b[0;34m\u001b[0m\u001b[0m\n\u001b[1;32m   2420\u001b[0m \u001b[0;34m\u001b[0m\u001b[0m\n",
            "\u001b[0;32m<decorator-gen-100>\u001b[0m in \u001b[0;36mconda\u001b[0;34m(self, line)\u001b[0m\n",
            "\u001b[0;32m/usr/local/lib/python3.10/dist-packages/IPython/core/magic.py\u001b[0m in \u001b[0;36m<lambda>\u001b[0;34m(f, *a, **k)\u001b[0m\n\u001b[1;32m    185\u001b[0m     \u001b[0;31m# but it's overkill for just that one bit of state.\u001b[0m\u001b[0;34m\u001b[0m\u001b[0;34m\u001b[0m\u001b[0m\n\u001b[1;32m    186\u001b[0m     \u001b[0;32mdef\u001b[0m \u001b[0mmagic_deco\u001b[0m\u001b[0;34m(\u001b[0m\u001b[0marg\u001b[0m\u001b[0;34m)\u001b[0m\u001b[0;34m:\u001b[0m\u001b[0;34m\u001b[0m\u001b[0;34m\u001b[0m\u001b[0m\n\u001b[0;32m--> 187\u001b[0;31m         \u001b[0mcall\u001b[0m \u001b[0;34m=\u001b[0m \u001b[0;32mlambda\u001b[0m \u001b[0mf\u001b[0m\u001b[0;34m,\u001b[0m \u001b[0;34m*\u001b[0m\u001b[0ma\u001b[0m\u001b[0;34m,\u001b[0m \u001b[0;34m**\u001b[0m\u001b[0mk\u001b[0m\u001b[0;34m:\u001b[0m \u001b[0mf\u001b[0m\u001b[0;34m(\u001b[0m\u001b[0;34m*\u001b[0m\u001b[0ma\u001b[0m\u001b[0;34m,\u001b[0m \u001b[0;34m**\u001b[0m\u001b[0mk\u001b[0m\u001b[0;34m)\u001b[0m\u001b[0;34m\u001b[0m\u001b[0;34m\u001b[0m\u001b[0m\n\u001b[0m\u001b[1;32m    188\u001b[0m \u001b[0;34m\u001b[0m\u001b[0m\n\u001b[1;32m    189\u001b[0m         \u001b[0;32mif\u001b[0m \u001b[0mcallable\u001b[0m\u001b[0;34m(\u001b[0m\u001b[0marg\u001b[0m\u001b[0;34m)\u001b[0m\u001b[0;34m:\u001b[0m\u001b[0;34m\u001b[0m\u001b[0;34m\u001b[0m\u001b[0m\n",
            "\u001b[0;32m/usr/local/lib/python3.10/dist-packages/IPython/core/magics/packaging.py\u001b[0m in \u001b[0;36mconda\u001b[0;34m(self, line)\u001b[0m\n\u001b[1;32m     84\u001b[0m         \"\"\"\n\u001b[1;32m     85\u001b[0m         \u001b[0;32mif\u001b[0m \u001b[0;32mnot\u001b[0m \u001b[0m_is_conda_environment\u001b[0m\u001b[0;34m(\u001b[0m\u001b[0;34m)\u001b[0m\u001b[0;34m:\u001b[0m\u001b[0;34m\u001b[0m\u001b[0;34m\u001b[0m\u001b[0m\n\u001b[0;32m---> 86\u001b[0;31m             raise ValueError(\"The python kernel does not appear to be a conda environment.  \"\n\u001b[0m\u001b[1;32m     87\u001b[0m                              \"Please use ``%pip install`` instead.\")\n\u001b[1;32m     88\u001b[0m \u001b[0;34m\u001b[0m\u001b[0m\n",
            "\u001b[0;31mValueError\u001b[0m: The python kernel does not appear to be a conda environment.  Please use ``%pip install`` instead."
          ]
        }
      ],
      "source": [
        " conda install -c conda-forge skater"
      ]
    },
    {
      "cell_type": "code",
      "execution_count": null,
      "id": "0db1dae7",
      "metadata": {
        "colab": {
          "base_uri": "https://localhost:8080/",
          "height": 384
        },
        "id": "0db1dae7",
        "outputId": "161b7105-44f2-4c75-bcf3-f646c30901bd"
      },
      "outputs": [
        {
          "output_type": "error",
          "ename": "ModuleNotFoundError",
          "evalue": "ignored",
          "traceback": [
            "\u001b[0;31m---------------------------------------------------------------------------\u001b[0m",
            "\u001b[0;31mModuleNotFoundError\u001b[0m                       Traceback (most recent call last)",
            "\u001b[0;32m<ipython-input-67-a889c0e5cd42>\u001b[0m in \u001b[0;36m<cell line: 1>\u001b[0;34m()\u001b[0m\n\u001b[0;32m----> 1\u001b[0;31m \u001b[0;32mfrom\u001b[0m \u001b[0mskater\u001b[0m\u001b[0;34m.\u001b[0m\u001b[0mcore\u001b[0m\u001b[0;34m.\u001b[0m\u001b[0mexplanations\u001b[0m \u001b[0;32mimport\u001b[0m \u001b[0mInterpretation\u001b[0m\u001b[0;34m\u001b[0m\u001b[0;34m\u001b[0m\u001b[0m\n\u001b[0m\u001b[1;32m      2\u001b[0m \u001b[0;32mfrom\u001b[0m \u001b[0mskater\u001b[0m\u001b[0;34m.\u001b[0m\u001b[0mmodel\u001b[0m \u001b[0;32mimport\u001b[0m \u001b[0mInMemoryModel\u001b[0m\u001b[0;34m\u001b[0m\u001b[0;34m\u001b[0m\u001b[0m\n\u001b[1;32m      3\u001b[0m \u001b[0;34m\u001b[0m\u001b[0m\n\u001b[1;32m      4\u001b[0m \u001b[0minterpreter\u001b[0m \u001b[0;34m=\u001b[0m \u001b[0mInterpretation\u001b[0m\u001b[0;34m(\u001b[0m\u001b[0mX_test\u001b[0m\u001b[0;34m,\u001b[0m \u001b[0mfeature_names\u001b[0m\u001b[0;34m=\u001b[0m\u001b[0mdata\u001b[0m\u001b[0;34m.\u001b[0m\u001b[0mfeature_names\u001b[0m\u001b[0;34m)\u001b[0m\u001b[0;34m\u001b[0m\u001b[0;34m\u001b[0m\u001b[0m\n\u001b[1;32m      5\u001b[0m model = InMemoryModel(logistic.predict_prob, examples=X_train,\n",
            "\u001b[0;31mModuleNotFoundError\u001b[0m: No module named 'skater'",
            "",
            "\u001b[0;31m---------------------------------------------------------------------------\u001b[0;32m\nNOTE: If your import is failing due to a missing package, you can\nmanually install dependencies using either !pip or !apt.\n\nTo view examples of installing some common dependencies, click the\n\"Open Examples\" button below.\n\u001b[0;31m---------------------------------------------------------------------------\u001b[0m\n"
          ],
          "errorDetails": {
            "actions": [
              {
                "action": "open_url",
                "actionText": "Open Examples",
                "url": "/notebooks/snippets/importing_libraries.ipynb"
              }
            ]
          }
        }
      ],
      "source": [
        "from skater.core.explanations import Interpretation\n",
        "from skater.model import InMemoryModel\n",
        "\n",
        "interpreter = Interpretation(X_test, feature_names=data.feature_names)\n",
        "model = InMemoryModel(logistic.predict_prob, examples=X_train,\n",
        "                     target_names=logistic.classes_)"
      ]
    },
    {
      "cell_type": "code",
      "execution_count": null,
      "id": "841c8125",
      "metadata": {
        "id": "841c8125"
      },
      "outputs": [],
      "source": [
        "from skater.core.local_interpretation.lime.lime_tabular import LimeTabularExplainer\n",
        "exp = LimeTabularExplainer(X_train, feature_names=data.feature_names,\n",
        "                          discrete_continuous=True, class_names=['0', '1'])"
      ]
    },
    {
      "cell_type": "code",
      "execution_count": null,
      "id": "b08ad92d",
      "metadata": {
        "id": "b08ad92d"
      },
      "outputs": [],
      "source": [
        "exp.explain_instance(X_test[0], logistic.predict_proba).show_in_notebook()"
      ]
    },
    {
      "cell_type": "code",
      "execution_count": null,
      "id": "00c87c4a",
      "metadata": {
        "id": "00c87c4a"
      },
      "outputs": [],
      "source": [
        "exp.explain_instance(X_test[1], logistic.predict_proba).show_in_notebook()"
      ]
    },
    {
      "cell_type": "code",
      "execution_count": null,
      "id": "582bc14c",
      "metadata": {
        "id": "582bc14c"
      },
      "outputs": [],
      "source": [
        "from sklearn.externals import joblib\n",
        "joblib.dump(logistic, 'lr_model.pkl')"
      ]
    },
    {
      "cell_type": "code",
      "execution_count": null,
      "id": "b1651f95",
      "metadata": {
        "id": "b1651f95"
      },
      "outputs": [],
      "source": [
        "lr=joblib.load('lr_model.pkl')\n",
        "lr"
      ]
    },
    {
      "cell_type": "code",
      "execution_count": null,
      "id": "d574b3f0",
      "metadata": {
        "id": "d574b3f0"
      },
      "outputs": [],
      "source": [
        "print(lr.predict(X_test[10:11]), y_test[10:11])"
      ]
    },
    {
      "cell_type": "markdown",
      "id": "e65388f7",
      "metadata": {
        "id": "e65388f7"
      },
      "source": [
        "### Kesimpulan\n",
        "\n",
        "\n",
        "\n",
        "Berikan simpulan yang dilakukan dari hasil kerja menggunakan algoritma dan 2 dataset yang\n",
        "dipilih. Simpulan bisa berkisar antara (bisa di modifikasi):\n",
        "\n",
        "    - Simpulan perbandingan dataset\n",
        "    - Hasil akurasi yang diberikan (jika ada dalam modul)\n",
        "    - Hasil perbandingan akurasi antara algoritma (jika ada dalam modul)\n",
        "    - Hasil pemikiran dan observasi akhir dari kerja menurut mahasiswa."
      ]
    },
    {
      "cell_type": "code",
      "execution_count": null,
      "id": "60b9b4ca",
      "metadata": {
        "colab": {
          "base_uri": "https://localhost:8080/"
        },
        "id": "60b9b4ca",
        "outputId": "9d704798-5476-49b8-c99e-02d71d6889d7"
      },
      "outputs": [
        {
          "output_type": "stream",
          "name": "stdout",
          "text": [
            "I certify that this is my own work.\n",
            "Signed by:\n",
            "Name: \tSteven Indriano\n",
            "NIM: \t57217\n",
            "Time-stamp:\t2023-12-06 04:32:13.979176\n"
          ]
        }
      ],
      "source": [
        "# Footer\n",
        "myDate = datetime.datetime.now()\n",
        "print(\"I certify that this is my own work.\")\n",
        "print(\"Signed by:\")\n",
        "print(\"Name: \\t{}\".format(myName))\n",
        "print(\"NIM: \\t{}\".format(myNIM))\n",
        "print(\"Time-stamp:\\t{}\".format(myDate))"
      ]
    },
    {
      "cell_type": "markdown",
      "id": "115e24b4",
      "metadata": {
        "id": "115e24b4"
      },
      "source": [
        "***\n",
        "\n",
        "### Save the notebook, then convert the notebook to html (by running the next code)."
      ]
    },
    {
      "cell_type": "code",
      "execution_count": null,
      "id": "1e86341c",
      "metadata": {
        "id": "1e86341c"
      },
      "outputs": [],
      "source": [
        "!jupyter nbconvert --to html \"./IF540L_kelas_C_laporan_M14_57217_Steven Indriano.ipynb\" --output-dir=\"./\""
      ]
    },
    {
      "cell_type": "markdown",
      "id": "e16a0495",
      "metadata": {
        "id": "e16a0495"
      },
      "source": [
        "### Next step:\n",
        "* convert the generated html file to PDF using the online tool: https://www.sejda.com/html-to-pdf\n",
        "* choose the following settings:\n",
        "    * Page size: One long page\n",
        "    * Page Orientation: auto\n",
        "    * Use print stylesheet\n",
        "* Submit your ipython notebook and PDF files\n",
        "\n",
        "Markdown basics https://markdown-guide.readthedocs.io/en/latest/basics.html#"
      ]
    },
    {
      "cell_type": "code",
      "execution_count": null,
      "id": "0b6add1a",
      "metadata": {
        "id": "0b6add1a"
      },
      "outputs": [],
      "source": []
    }
  ],
  "metadata": {
    "kernelspec": {
      "display_name": "Python 3 (ipykernel)",
      "language": "python",
      "name": "python3"
    },
    "language_info": {
      "codemirror_mode": {
        "name": "ipython",
        "version": 3
      },
      "file_extension": ".py",
      "mimetype": "text/x-python",
      "name": "python",
      "nbconvert_exporter": "python",
      "pygments_lexer": "ipython3",
      "version": "3.9.13"
    },
    "vscode": {
      "interpreter": {
        "hash": "40d3a090f54c6569ab1632332b64b2c03c39dcf918b08424e98f38b5ae0af88f"
      }
    },
    "colab": {
      "provenance": []
    }
  },
  "nbformat": 4,
  "nbformat_minor": 5
}