{
 "cells": [
  {
   "cell_type": "markdown",
   "id": "aea691db",
   "metadata": {},
   "source": [
    "## <div align=\"center\"> TUGAS LAB IF540 MACHINE LEARNING </div>\n",
    "### <div align=\"center\"> WEEK [04] : [Linear Discriminant Analysis] </div>\n",
    "\n",
    "#### <div align=\"center\"> Semester Ganjil 2023/2024 </div>"
   ]
  },
  {
   "cell_type": "code",
   "execution_count": 1,
   "id": "ad81e0ee",
   "metadata": {},
   "outputs": [
    {
     "name": "stdout",
     "output_type": "stream",
     "text": [
      "Name: \t\tSteven Indriano\n",
      "NIM: \t\t57217\n",
      "Start: \t\t2023-09-25 10:53:37.431109\n",
      "Device ID: \t1b5b3eb8-5b57-11ee-bb46-f057a69a9c86\n"
     ]
    }
   ],
   "source": [
    "import datetime\n",
    "import uuid    \n",
    "\n",
    "# Fill in your name and NIM\n",
    "myName = \"Steven Indriano\"\n",
    "myNIM = \"57217\"\n",
    "\n",
    "myDate = datetime.datetime.now()\n",
    "myDevice = str(uuid.uuid1())\n",
    "\n",
    "# Header\n",
    "print(\"Name: \\t\\t{}\".format(myName))\n",
    "print(\"NIM: \\t\\t{}\".format(myNIM))\n",
    "print(\"Start: \\t\\t{}\".format(myDate))\n",
    "print(\"Device ID: \\t{}\".format(myDevice))"
   ]
  },
  {
   "cell_type": "markdown",
   "id": "ce3f5e6e",
   "metadata": {},
   "source": [
    "\n",
    "---\n",
    "\n",
    "### Dataset yang dipakai:\n",
    "\n",
    "1. [Iris Dataset] – sumber : [https://www.kaggle.com/datasets/arshid/iris-flower-dataset]\n",
    "2. [Tsunami Events Dataset] – sumber : [https://www.kaggle.com/datasets/harshalhonde/tsunami-events-dataset-1900-present]\n",
    "\n",
    "### Hasil kerja"
   ]
  },
  {
   "cell_type": "code",
   "execution_count": 2,
   "id": "d8c4470e",
   "metadata": {},
   "outputs": [],
   "source": [
    "# Your codes are here (replace the following codes)\n",
    "import time\n",
    "time.sleep(10)"
   ]
  },
  {
   "cell_type": "code",
   "execution_count": 3,
   "id": "a65af17f",
   "metadata": {},
   "outputs": [],
   "source": [
    "# import the Libraries\n",
    "import numpy as np\n",
    "import pandas as pd\n",
    "import matplotlib.pyplot as plt\n",
    "import seaborn as sns\n"
   ]
  },
  {
   "cell_type": "code",
   "execution_count": 4,
   "id": "076030b0",
   "metadata": {},
   "outputs": [],
   "source": [
    "# import the dataset\n",
    "dataset = pd.read_csv('C:\\Images from Google\\Wine.csv')\n",
    "X = dataset.iloc[:, :13].values\n",
    "Y = dataset.iloc[:, 13].values"
   ]
  },
  {
   "cell_type": "code",
   "execution_count": 5,
   "id": "e2842b42",
   "metadata": {},
   "outputs": [],
   "source": [
    "from sklearn.model_selection import train_test_split\n",
    "X_train, X_test, y_train, y_test = train_test_split(X, Y, test_size=0.2, random_state=0)\n"
   ]
  },
  {
   "cell_type": "code",
   "execution_count": 6,
   "id": "45451a6c",
   "metadata": {},
   "outputs": [],
   "source": [
    " # feature Scaling\n",
    "from sklearn.preprocessing import StandardScaler\n",
    "sc_X= StandardScaler()\n",
    "X_train = sc_X.fit_transform(X_train)\n",
    "X_test = sc_X.transform(X_test)"
   ]
  },
  {
   "cell_type": "code",
   "execution_count": 7,
   "id": "081f05a0",
   "metadata": {},
   "outputs": [],
   "source": [
    "# import LDA model\n",
    "from sklearn.discriminant_analysis import LinearDiscriminantAnalysis as LDA\n"
   ]
  },
  {
   "cell_type": "code",
   "execution_count": 8,
   "id": "4bedbb57",
   "metadata": {},
   "outputs": [],
   "source": [
    " # initialize the LDA\n",
    "lda = LDA(n_components = 2)\n"
   ]
  },
  {
   "cell_type": "code",
   "execution_count": 9,
   "id": "8c460fbd",
   "metadata": {},
   "outputs": [],
   "source": [
    " # fitting the LDA model\n",
    "X_test = lda.fit_transform(X_test, y_test)\n",
    "X_train = lda.transform(X_train)\n"
   ]
  },
  {
   "cell_type": "code",
   "execution_count": 10,
   "id": "61bdaac0",
   "metadata": {},
   "outputs": [],
   "source": [
    "# import the Logistic Regression model from sklearn using the 2 variances with␣,→the help of LDA\n",
    "from sklearn.linear_model import LogisticRegression"
   ]
  },
  {
   "cell_type": "code",
   "execution_count": 11,
   "id": "f3f0b2d0",
   "metadata": {},
   "outputs": [],
   "source": [
    "LG=LogisticRegression(random_state=0)\n"
   ]
  },
  {
   "cell_type": "code",
   "execution_count": 12,
   "id": "9492e74d",
   "metadata": {},
   "outputs": [],
   "source": [
    "LG=LogisticRegression(random_state=0)"
   ]
  },
  {
   "cell_type": "code",
   "execution_count": 13,
   "id": "0ff2329f",
   "metadata": {},
   "outputs": [
    {
     "data": {
      "text/plain": [
       "LogisticRegression(random_state=0)"
      ]
     },
     "execution_count": 13,
     "metadata": {},
     "output_type": "execute_result"
    }
   ],
   "source": [
    "# fit the Logistic Regression model\n",
    "LG.fit(X_train,y_train)\n"
   ]
  },
  {
   "cell_type": "code",
   "execution_count": 14,
   "id": "18b8841a",
   "metadata": {},
   "outputs": [],
   "source": [
    "# predict the Logistic regression model\n",
    "y_pred=LG.predict(X_test)\n"
   ]
  },
  {
   "cell_type": "code",
   "execution_count": 15,
   "id": "d247b8e3",
   "metadata": {},
   "outputs": [
    {
     "data": {
      "text/plain": [
       "<AxesSubplot:>"
      ]
     },
     "execution_count": 15,
     "metadata": {},
     "output_type": "execute_result"
    },
    {
     "data": {
      "image/png": "[encoded data removed]",
      "text/plain": [
       "<Figure size 640x480 with 2 Axes>"
      ]
     },
     "metadata": {},
     "output_type": "display_data"
    }
   ],
   "source": [
    "# making a confusion metrics\n",
    "from sklearn.metrics import confusion_matrix\n",
    "confusion_matrix=confusion_matrix(y_test,y_pred)\n",
    "sns.heatmap(confusion_matrix, annot=True, cmap=\"YlGnBu\")"
   ]
  },
  {
   "cell_type": "code",
   "execution_count": 16,
   "id": "78d0f749",
   "metadata": {},
   "outputs": [
    {
     "name": "stderr",
     "output_type": "stream",
     "text": [
      "*c* argument looks like a single numeric RGB or RGBA sequence, which should be avoided as value-mapping will have precedence in case its length matches with *x* & *y*.  Please use the *color* keyword-argument or provide a 2D array with a single row if you intend to specify the same RGB or RGBA value for all points.\n",
      "*c* argument looks like a single numeric RGB or RGBA sequence, which should be avoided as value-mapping will have precedence in case its length matches with *x* & *y*.  Please use the *color* keyword-argument or provide a 2D array with a single row if you intend to specify the same RGB or RGBA value for all points.\n",
      "*c* argument looks like a single numeric RGB or RGBA sequence, which should be avoided as value-mapping will have precedence in case its length matches with *x* & *y*.  Please use the *color* keyword-argument or provide a 2D array with a single row if you intend to specify the same RGB or RGBA value for all points.\n"
     ]
    },
    {
     "data": {
      "image/png": "[encoded data removed]",
      "text/plain": [
       "<Figure size 640x480 with 1 Axes>"
      ]
     },
     "metadata": {},
     "output_type": "display_data"
    }
   ],
   "source": [
    "# Visualising the Test set results\n",
    "from matplotlib.colors import ListedColormap\n",
    "X_set, y_set = X_test, y_test\n",
    "X1, X2 = np.meshgrid(np.arange(start=X_set[:, 0].min() - 1, stop=X_set[:, 0].max() + 1, step=0.01),\n",
    "                    np.arange(start=X_set[:, 1].min() - 1, stop=X_set[:, 1].max() + 1, step=0.01))\n",
    "plt.contourf(X1, X2, LG.predict(np.array([X1.ravel(), X2.ravel()]).T).reshape(X1.shape),\n",
    "             alpha=0.75, cmap=ListedColormap(('red', 'green', 'blue')))\n",
    "plt.xlim(X1.min(), X1.max())\n",
    "plt.ylim(X2.min(), X2.max())\n",
    "for i, j in enumerate(np.unique(y_set)):\n",
    "    plt.scatter(X_set[y_set == j, 0], X_set[y_set == j, 1],\n",
    "                c=ListedColormap(('red', 'green', 'blue'))(i), label=j)\n",
    "plt.title('Logistic Regression (Test set)')\n",
    "plt.xlabel('LD1')\n",
    "plt.ylabel('LD2')\n",
    "plt.legend()\n",
    "plt.show()\n"
   ]
  },
  {
   "cell_type": "markdown",
   "id": "e65388f7",
   "metadata": {},
   "source": [
    "### Kesimpulan\n",
    "\n",
    "\n",
    "\n",
    "Berikan simpulan yang dilakukan dari hasil kerja menggunakan algoritma dan 2 dataset yang\n",
    "dipilih. Simpulan bisa berkisar antara (bisa di modifikasi):\n",
    "\n",
    "- Dataset Wine.csv digunakan dalam contoh ini, dan dibagi menjadi data pelatihan (train) dan data uji (test) dengan pembagian 80-20%.\n",
    "\n",
    "- Dilakukan standard scaling pada data pelatihan dan uji untuk memastikan bahwa semua fitur memiliki skala yang seragam.\n",
    "\n",
    "- Linear Discriminant Analysis (LDA) digunakan untuk melakukan reduksi dimensi menjadi 2 komponen dengan mempertahankan separabilitas kelas.\n",
    "\n",
    "- Model Logistic Regression diinisialisasi dan dilatih menggunakan data pelatihan yang telah direduksi dimensinya dengan LDA.\n",
    "\n",
    "- Prediksi dilakukan pada data uji menggunakan model Logistic Regression yang telah dilatih.\n",
    "\n",
    "- Dibuat matriks kebingungan (confusion matrix) untuk mengevaluasi kinerja model klasifikasi.\n",
    "\n",
    "- Hasil prediksi dari model Logistic Regression divisualisasikan pada bidang dua dimensi menggunakan grafik kontur dengan warna berbeda untuk setiap kelas.\n",
    "\n",
    "- Kesimpulan dari visualisasi ini adalah model Logistic Regression mampu memisahkan kelas-kelas dengan baik berdasarkan 2 komponen LDA yang dihasilkan.\n",
    "\n",
    "- Grafik menunjukkan bahwa ada tiga kelas ('red', 'green', 'blue') yang dapat dibedakan dengan baik dalam bidang dua dimensi."
   ]
  },
  {
   "cell_type": "code",
   "execution_count": 17,
   "id": "60b9b4ca",
   "metadata": {},
   "outputs": [
    {
     "name": "stdout",
     "output_type": "stream",
     "text": [
      "I certify that this is my own work.\n",
      "Signed by:\n",
      "Name: \tSteven Indriano\n",
      "NIM: \t57217\n",
      "Time-stamp:\t2023-09-25 10:53:48.985336\n"
     ]
    }
   ],
   "source": [
    "# Footer\n",
    "myDate = datetime.datetime.now()\n",
    "print(\"I certify that this is my own work.\")\n",
    "print(\"Signed by:\")\n",
    "print(\"Name: \\t{}\".format(myName))\n",
    "print(\"NIM: \\t{}\".format(myNIM))\n",
    "print(\"Time-stamp:\\t{}\".format(myDate))"
   ]
  },
  {
   "cell_type": "markdown",
   "id": "115e24b4",
   "metadata": {},
   "source": [
    "***\n",
    "\n",
    "### Save the notebook, then convert the notebook to html (by running the next code)."
   ]
  },
  {
   "cell_type": "code",
   "execution_count": 19,
   "id": "1e86341c",
   "metadata": {},
   "outputs": [
    {
     "name": "stdout",
     "output_type": "stream",
     "text": [
      "This application is used to convert notebook files (*.ipynb)\n",
      "        to various other formats.\n",
      "\n",
      "        WARNING: THE COMMANDLINE INTERFACE MAY CHANGE IN FUTURE RELEASES.\n",
      "\n",
      "Options\n",
      "=======\n",
      "The options below are convenience aliases to configurable class-options,\n",
      "as listed in the \"Equivalent to\" description-line of the aliases.\n",
      "To see all configurable class-options for some <cmd>, use:\n",
      "    <cmd> --help-all\n",
      "\n",
      "--debug\n",
      "    set log level to logging.DEBUG (maximize logging output)\n",
      "    Equivalent to: [--Application.log_level=10]\n",
      "--show-config\n",
      "    Show the application's configuration (human-readable format)\n",
      "    Equivalent to: [--Application.show_config=True]\n",
      "--show-config-json\n",
      "    Show the application's configuration (json format)\n",
      "    Equivalent to: [--Application.show_config_json=True]\n",
      "--generate-config\n",
      "    generate default config file\n",
      "    Equivalent to: [--JupyterApp.generate_config=True]\n",
      "-y\n",
      "    Answer yes to any questions instead of prompting.\n",
      "    Equivalent to: [--JupyterApp.answer_yes=True]\n",
      "--execute\n",
      "    Execute the notebook prior to export.\n",
      "    Equivalent to: [--ExecutePreprocessor.enabled=True]\n",
      "--allow-errors\n",
      "    Continue notebook execution even if one of the cells throws an error and include the error message in the cell output (the default behaviour is to abort conversion). This flag is only relevant if '--execute' was specified, too.\n",
      "    Equivalent to: [--ExecutePreprocessor.allow_errors=True]\n",
      "--stdin\n",
      "    read a single notebook file from stdin. Write the resulting notebook with default basename 'notebook.*'\n",
      "    Equivalent to: [--NbConvertApp.from_stdin=True]\n",
      "--stdout\n",
      "    Write notebook output to stdout instead of files.\n",
      "    Equivalent to: [--NbConvertApp.writer_class=StdoutWriter]\n",
      "--inplace\n",
      "    Run nbconvert in place, overwriting the existing notebook (only \n",
      "            relevant when converting to notebook format)\n",
      "    Equivalent to: [--NbConvertApp.use_output_suffix=False --NbConvertApp.export_format=notebook --FilesWriter.build_directory=]\n",
      "--clear-output\n",
      "    Clear output of current file and save in place, \n",
      "            overwriting the existing notebook.\n",
      "    Equivalent to: [--NbConvertApp.use_output_suffix=False --NbConvertApp.export_format=notebook --FilesWriter.build_directory= --ClearOutputPreprocessor.enabled=True]\n",
      "--no-prompt\n",
      "    Exclude input and output prompts from converted document.\n",
      "    Equivalent to: [--TemplateExporter.exclude_input_prompt=True --TemplateExporter.exclude_output_prompt=True]\n",
      "--no-input\n",
      "    Exclude input cells and output prompts from converted document. \n",
      "            This mode is ideal for generating code-free reports.\n",
      "    Equivalent to: [--TemplateExporter.exclude_output_prompt=True --TemplateExporter.exclude_input=True --TemplateExporter.exclude_input_prompt=True]\n",
      "--allow-chromium-download\n",
      "    Whether to allow downloading chromium if no suitable version is found on the system.\n",
      "    Equivalent to: [--WebPDFExporter.allow_chromium_download=True]\n",
      "--disable-chromium-sandbox\n",
      "    Disable chromium security sandbox when converting to PDF..\n",
      "    Equivalent to: [--WebPDFExporter.disable_sandbox=True]\n",
      "--show-input\n",
      "    Shows code input. This flag is only useful for dejavu users.\n",
      "    Equivalent to: [--TemplateExporter.exclude_input=False]\n",
      "--embed-images\n",
      "    Embed the images as base64 dataurls in the output. This flag is only useful for the HTML/WebPDF/Slides exports.\n",
      "    Equivalent to: [--HTMLExporter.embed_images=True]\n",
      "--log-level=<Enum>\n",
      "    Set the log level by value or name.\n",
      "    Choices: any of [0, 10, 20, 30, 40, 50, 'DEBUG', 'INFO', 'WARN', 'ERROR', 'CRITICAL']\n",
      "    Default: 30\n",
      "    Equivalent to: [--Application.log_level]\n",
      "--config=<Unicode>\n",
      "    Full path of a config file.\n",
      "    Default: ''\n",
      "    Equivalent to: [--JupyterApp.config_file]\n",
      "--to=<Unicode>\n",
      "    The export format to be used, either one of the built-in formats\n",
      "            ['asciidoc', 'custom', 'html', 'latex', 'markdown', 'notebook', 'pdf', 'python', 'rst', 'script', 'slides', 'webpdf']\n",
      "            or a dotted object name that represents the import path for an\n",
      "            ``Exporter`` class\n",
      "    Default: ''\n",
      "    Equivalent to: [--NbConvertApp.export_format]\n",
      "--template=<Unicode>\n",
      "    Name of the template to use\n",
      "    Default: ''\n",
      "    Equivalent to: [--TemplateExporter.template_name]\n",
      "--template-file=<Unicode>\n",
      "    Name of the template file to use\n",
      "    Default: None\n",
      "    Equivalent to: [--TemplateExporter.template_file]\n",
      "--theme=<Unicode>\n",
      "    Template specific theme(e.g. the name of a JupyterLab CSS theme distributed\n",
      "    as prebuilt extension for the lab template)\n",
      "    Default: 'light'\n",
      "    Equivalent to: [--HTMLExporter.theme]\n",
      "--writer=<DottedObjectName>\n",
      "    Writer class used to write the \n",
      "                                        results of the conversion\n",
      "    Default: 'FilesWriter'\n",
      "    Equivalent to: [--NbConvertApp.writer_class]\n",
      "--post=<DottedOrNone>\n",
      "    PostProcessor class used to write the\n",
      "                                        results of the conversion\n",
      "    Default: ''\n",
      "    Equivalent to: [--NbConvertApp.postprocessor_class]\n",
      "--output=<Unicode>\n",
      "    overwrite base name use for output files.\n",
      "                can only be used when converting one notebook at a time.\n",
      "    Default: ''\n",
      "    Equivalent to: [--NbConvertApp.output_base]\n",
      "--output-dir=<Unicode>\n",
      "    Directory to write output(s) to. Defaults\n",
      "                                  to output to the directory of each notebook. To recover\n",
      "                                  previous default behaviour (outputting to the current \n",
      "                                  working directory) use . as the flag value.\n",
      "    Default: ''\n",
      "    Equivalent to: [--FilesWriter.build_directory]\n",
      "--reveal-prefix=<Unicode>\n",
      "    The URL prefix for reveal.js (version 3.x).\n",
      "            This defaults to the reveal CDN, but can be any url pointing to a copy \n",
      "            of reveal.js. \n",
      "            For speaker notes to work, this must be a relative path to a local \n",
      "            copy of reveal.js: e.g., \"reveal.js\".\n",
      "            If a relative path is given, it must be a subdirectory of the\n",
      "            current directory (from which the server is run).\n",
      "            See the usage documentation\n",
      "            (https://nbconvert.readthedocs.io/en/latest/usage.html#reveal-js-html-slideshow)\n",
      "            for more details.\n",
      "    Default: ''\n",
      "    Equivalent to: [--SlidesExporter.reveal_url_prefix]\n",
      "--nbformat=<Enum>\n",
      "    The nbformat version to write.\n",
      "            Use this to downgrade notebooks.\n",
      "    Choices: any of [1, 2, 3, 4]\n",
      "    Default: 4\n",
      "    Equivalent to: [--NotebookExporter.nbformat_version]\n",
      "\n",
      "Examples\n",
      "--------\n",
      "\n",
      "    The simplest way to use nbconvert is\n",
      "\n",
      "            > jupyter nbconvert mynotebook.ipynb --to html\n",
      "\n",
      "            Options include ['asciidoc', 'custom', 'html', 'latex', 'markdown', 'notebook', 'pdf', 'python', 'rst', 'script', 'slides', 'webpdf'].\n",
      "\n",
      "            > jupyter nbconvert --to latex mynotebook.ipynb\n",
      "\n",
      "            Both HTML and LaTeX support multiple output templates. LaTeX includes\n",
      "            'base', 'article' and 'report'.  HTML includes 'basic', 'lab' and \n",
      "            'classic'. You can specify the flavor of the format used.\n",
      "\n",
      "            > jupyter nbconvert --to html --template lab mynotebook.ipynb\n",
      "\n",
      "            You can also pipe the output to stdout, rather than a file\n",
      "\n",
      "            > jupyter nbconvert mynotebook.ipynb --stdout\n",
      "\n",
      "            PDF is generated via latex\n",
      "\n",
      "            > jupyter nbconvert mynotebook.ipynb --to pdf\n",
      "\n",
      "            You can get (and serve) a Reveal.js-powered slideshow\n",
      "\n",
      "            > jupyter nbconvert myslides.ipynb --to slides --post serve\n",
      "\n",
      "            Multiple notebooks can be given at the command line in a couple of \n",
      "            different ways:\n",
      "\n",
      "            > jupyter nbconvert notebook*.ipynb\n",
      "            > jupyter nbconvert notebook1.ipynb notebook2.ipynb\n",
      "\n",
      "            or you can specify the notebooks list in a config file, containing::\n",
      "\n",
      "                c.NbConvertApp.notebooks = [\"my_notebook.ipynb\"]\n",
      "\n",
      "            > jupyter nbconvert --config mycfg.py\n",
      "\n",
      "To see all available configurables, use `--help-all`.\n",
      "\n"
     ]
    },
    {
     "name": "stderr",
     "output_type": "stream",
     "text": [
      "[NbConvertApp] WARNING | pattern '/IF540_Week04_kelas_CL_57217_Steven_Indriano.ipynb' matched no files\n"
     ]
    }
   ],
   "source": [
    "!jupyter nbconvert --to html \"/IF540_Week04_kelas_CL_57217_Steven_Indriano.ipynb\" --output-dir=\"C:/Users/NB/.vscode/Machine Learning/Week 4\""
   ]
  },
  {
   "cell_type": "markdown",
   "id": "e16a0495",
   "metadata": {},
   "source": [
    "### Next step:\n",
    "* convert the generated html file to PDF using the online tool: https://www.sejda.com/html-to-pdf\n",
    "* choose the following settings:\n",
    "    * Page size: One long page\n",
    "    * Page Orientation: auto\n",
    "    * Use print stylesheet\n",
    "* Submit your ipython notebook and PDF files\n",
    "\n",
    "Markdown basics https://markdown-guide.readthedocs.io/en/latest/basics.html#"
   ]
  },
  {
   "cell_type": "code",
   "execution_count": null,
   "id": "0b6add1a",
   "metadata": {},
   "outputs": [],
   "source": []
  }
 ],
 "metadata": {
  "kernelspec": {
   "display_name": "Python 3 (ipykernel)",
   "language": "python",
   "name": "python3"
  },
  "language_info": {
   "codemirror_mode": {
    "name": "ipython",
    "version": 3
   },
   "file_extension": ".py",
   "mimetype": "text/x-python",
   "name": "python",
   "nbconvert_exporter": "python",
   "pygments_lexer": "ipython3",
   "version": "3.9.13"
  },
  "vscode": {
   "interpreter": {
    "hash": "40d3a090f54c6569ab1632332b64b2c03c39dcf918b08424e98f38b5ae0af88f"
   }
  }
 },
 "nbformat": 4,
 "nbformat_minor": 5
}
